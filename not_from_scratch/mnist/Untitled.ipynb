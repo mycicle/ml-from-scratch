{
 "cells": [
  {
   "cell_type": "code",
   "execution_count": 1,
   "id": "balanced-contrast",
   "metadata": {},
   "outputs": [],
   "source": [
    "import numpy as np\n",
    "import tensorflow as tf\n",
    "\n",
    "import matplotlib.pyplot as pt\n",
    "from tensorflow.keras.datasets.mnist import load_data\n"
   ]
  },
  {
   "cell_type": "code",
   "execution_count": 2,
   "id": "consecutive-enhancement",
   "metadata": {},
   "outputs": [
    {
     "name": "stdout",
     "output_type": "stream",
     "text": [
      "Length of test dataset: 10000\n",
      "Length of train dataset: 60000\n"
     ]
    }
   ],
   "source": [
    "(x_train, y_train), (x_test, y_test) = load_data()\n",
    "\n",
    "n_train = len(x_train)\n",
    "n_test = len(x_test)\n",
    "\n",
    "print(f\"Length of test dataset: {n_test}\")\n",
    "print(f\"Length of train dataset: {n_train}\")"
   ]
  },
  {
   "cell_type": "markdown",
   "id": "hungarian-vertical",
   "metadata": {},
   "source": [
    "### Lets take a look at one of these images"
   ]
  },
  {
   "cell_type": "code",
   "execution_count": 3,
   "id": "regulation-reasoning",
   "metadata": {},
   "outputs": [
    {
     "data": {
      "image/png": "[encoded data removed]",
      "text/plain": [
       "<Figure size 432x288 with 1 Axes>"
      ]
     },
     "metadata": {
      "needs_background": "light"
     },
     "output_type": "display_data"
    }
   ],
   "source": [
    "rand: int = int(np.random.randn()*n_test)\n",
    "pt.imshow(x_train[rand].reshape(28, 28), cmap='gray')\n",
    "pt.title(y_train[rand])\n",
    "pt.show()"
   ]
  },
  {
   "cell_type": "code",
   "execution_count": 4,
   "id": "better-broadcast",
   "metadata": {},
   "outputs": [],
   "source": [
    "rand_perm = np.random.permutation(n_train)\n",
    "x_train = x_train[rand_perm]\n",
    "y_train = y_train[rand_perm]\n",
    "\n",
    "y_train = tf.one_hot(y_train, depth=10, on_value=1, off_value=0)\n",
    "\n",
    "x_train = x_train[..., np.newaxis]\n",
    "\n",
    "X = x_train[:40000]\n",
    "y = y_train[:40000]\n",
    "\n",
    "x_val = x_train[40000:]\n",
    "y_val = y_train[40000:]\n"
   ]
  },
  {
   "cell_type": "markdown",
   "id": "defensive-myanmar",
   "metadata": {},
   "source": [
    "### Ok, so most ( really all ) of the data processing is done so lets just get right into the learning!"
   ]
  },
  {
   "cell_type": "markdown",
   "id": "underlying-corner",
   "metadata": {},
   "source": [
    "### So up first lets go with a conventional Deep Convolutional Neural Network\n",
    "- Note, we can't go too deep or we will reach the vanishing gradient problem\n",
    "- We can also theoretically do data augmentation, but we will do that later and compare and contrast\n",
    "- We will also start off guns blazing with the normalization and pooling"
   ]
  },
  {
   "cell_type": "markdown",
   "id": "weekly-desire",
   "metadata": {},
   "source": [
    "#### Architecture\n",
    "    - Conv Input\n",
    "    - Batch Normalization\n",
    "    - Activation \n",
    "    - Max Pooling\n",
    "---\n",
    "    - Conv Input\n",
    "    - Batch Normalization\n",
    "    - Activation\n",
    "    - Max Pooling\n",
    "---\n",
    "    - Conv Input\n",
    "    - Batch Normalization\n",
    "    - Activation\n",
    "    - Max Pooling\n",
    "---\n",
    "    - Conv Input\n",
    "    - Batch Normalization\n",
    "    - Activation\n",
    "<!--     - Max Pooling -->\n",
    "---\n",
    "    - Conv Input\n",
    "    - Batch Normalization\n",
    "    - Activation\n",
    "    - Average Pooling\n",
    "    - Flatten\n",
    "---\n",
    "    - Dense Layer\n",
    "    - ReLU\n",
    "---\n",
    "    - Dropout \n",
    "    - Dense Layer\n",
    "    - Softmax"
   ]
  },
  {
   "cell_type": "code",
   "execution_count": 5,
   "id": "cellular-dylan",
   "metadata": {},
   "outputs": [],
   "source": [
    "from tensorflow.keras import layers\n",
    "from tensorflow.keras import activations as act\n",
    "\n",
    "model = tf.keras.models.Sequential()\n",
    "model.add(layers.Conv2D(10, (5, 5), input_shape=(28, 28, 1)))\n",
    "model.add(layers.BatchNormalization())\n",
    "model.add(layers.Activation(act.relu))\n",
    "model.add(layers.MaxPooling2D((2, 2)))\n",
    "\n",
    "model.add(layers.Conv2D(10, (5, 5), padding='same')) # zero padding\n",
    "model.add(layers.BatchNormalization())\n",
    "model.add(layers.Activation(act.relu))\n",
    "model.add(layers.MaxPooling2D((2, 2)))\n",
    "\n",
    "model.add(layers.Conv2D(10, (5, 5), padding='same')) # zero padding\n",
    "model.add(layers.BatchNormalization())\n",
    "model.add(layers.Activation(act.relu))\n",
    "model.add(layers.MaxPooling2D((2, 2)))\n",
    "\n",
    "model.add(layers.Conv2D(10, (5, 5), padding='same')) # zero padding\n",
    "model.add(layers.BatchNormalization())\n",
    "model.add(layers.Activation(act.relu))\n",
    "model.add(layers.AveragePooling2D((2, 2)))\n",
    "\n",
    "model.add(layers.Flatten())\n",
    "\n",
    "model.add(layers.Dense(30))\n",
    "model.add(layers.Activation(act.relu))\n",
    "\n",
    "model.add(layers.Dropout(0.3))\n",
    "model.add(layers.Dense(10))\n",
    "model.add(layers.Activation(act.softmax))"
   ]
  },
  {
   "cell_type": "code",
   "execution_count": 6,
   "id": "angry-membrane",
   "metadata": {},
   "outputs": [],
   "source": [
    "model.compile(tf.keras.optimizers.RMSprop(lr=0.0001),\n",
    "                loss='categorical_crossentropy',\n",
    "                 metrics=['accuracy']) \n",
    "# we have an extremely balanced dataset so classification accuracy is valid"
   ]
  },
  {
   "cell_type": "code",
   "execution_count": 7,
   "id": "peripheral-following",
   "metadata": {},
   "outputs": [
    {
     "name": "stdout",
     "output_type": "stream",
     "text": [
      "Model: \"sequential\"\n",
      "_________________________________________________________________\n",
      "Layer (type)                 Output Shape              Param #   \n",
      "=================================================================\n",
      "conv2d (Conv2D)              (None, 24, 24, 10)        260       \n",
      "_________________________________________________________________\n",
      "batch_normalization (BatchNo (None, 24, 24, 10)        40        \n",
      "_________________________________________________________________\n",
      "activation (Activation)      (None, 24, 24, 10)        0         \n",
      "_________________________________________________________________\n",
      "max_pooling2d (MaxPooling2D) (None, 12, 12, 10)        0         \n",
      "_________________________________________________________________\n",
      "conv2d_1 (Conv2D)            (None, 12, 12, 10)        2510      \n",
      "_________________________________________________________________\n",
      "batch_normalization_1 (Batch (None, 12, 12, 10)        40        \n",
      "_________________________________________________________________\n",
      "activation_1 (Activation)    (None, 12, 12, 10)        0         \n",
      "_________________________________________________________________\n",
      "max_pooling2d_1 (MaxPooling2 (None, 6, 6, 10)          0         \n",
      "_________________________________________________________________\n",
      "conv2d_2 (Conv2D)            (None, 6, 6, 10)          2510      \n",
      "_________________________________________________________________\n",
      "batch_normalization_2 (Batch (None, 6, 6, 10)          40        \n",
      "_________________________________________________________________\n",
      "activation_2 (Activation)    (None, 6, 6, 10)          0         \n",
      "_________________________________________________________________\n",
      "max_pooling2d_2 (MaxPooling2 (None, 3, 3, 10)          0         \n",
      "_________________________________________________________________\n",
      "conv2d_3 (Conv2D)            (None, 3, 3, 10)          2510      \n",
      "_________________________________________________________________\n",
      "batch_normalization_3 (Batch (None, 3, 3, 10)          40        \n",
      "_________________________________________________________________\n",
      "activation_3 (Activation)    (None, 3, 3, 10)          0         \n",
      "_________________________________________________________________\n",
      "average_pooling2d (AveragePo (None, 1, 1, 10)          0         \n",
      "_________________________________________________________________\n",
      "flatten (Flatten)            (None, 10)                0         \n",
      "_________________________________________________________________\n",
      "dense (Dense)                (None, 30)                330       \n",
      "_________________________________________________________________\n",
      "activation_4 (Activation)    (None, 30)                0         \n",
      "_________________________________________________________________\n",
      "dropout (Dropout)            (None, 30)                0         \n",
      "_________________________________________________________________\n",
      "dense_1 (Dense)              (None, 10)                310       \n",
      "_________________________________________________________________\n",
      "activation_5 (Activation)    (None, 10)                0         \n",
      "=================================================================\n",
      "Total params: 8,590\n",
      "Trainable params: 8,510\n",
      "Non-trainable params: 80\n",
      "_________________________________________________________________\n"
     ]
    }
   ],
   "source": [
    "model.summary()"
   ]
  },
  {
   "cell_type": "code",
   "execution_count": 8,
   "id": "subjective-honolulu",
   "metadata": {},
   "outputs": [
    {
     "name": "stdout",
     "output_type": "stream",
     "text": [
      "Epoch 1/50\n",
      "313/313 [==============================] - 4s 7ms/step - loss: 2.1992 - accuracy: 0.1436 - val_loss: 1.8513 - val_accuracy: 0.3668\n",
      "Epoch 2/50\n",
      "313/313 [==============================] - 2s 5ms/step - loss: 1.7345 - accuracy: 0.3996 - val_loss: 1.3818 - val_accuracy: 0.6366\n",
      "Epoch 3/50\n",
      "313/313 [==============================] - 2s 5ms/step - loss: 1.3671 - accuracy: 0.6098 - val_loss: 0.9974 - val_accuracy: 0.8389\n",
      "Epoch 4/50\n",
      "313/313 [==============================] - 2s 5ms/step - loss: 1.0192 - accuracy: 0.7676 - val_loss: 0.6584 - val_accuracy: 0.9250\n",
      "Epoch 5/50\n",
      "313/313 [==============================] - 2s 5ms/step - loss: 0.7453 - accuracy: 0.8473 - val_loss: 0.4406 - val_accuracy: 0.9463\n",
      "Epoch 6/50\n",
      "313/313 [==============================] - 2s 5ms/step - loss: 0.5537 - accuracy: 0.8805 - val_loss: 0.2954 - val_accuracy: 0.9556\n",
      "Epoch 7/50\n",
      "313/313 [==============================] - 2s 5ms/step - loss: 0.4228 - accuracy: 0.9050 - val_loss: 0.2177 - val_accuracy: 0.9603\n",
      "Epoch 8/50\n",
      "313/313 [==============================] - 2s 5ms/step - loss: 0.3344 - accuracy: 0.9241 - val_loss: 0.1730 - val_accuracy: 0.9635\n",
      "Epoch 9/50\n",
      "313/313 [==============================] - 2s 5ms/step - loss: 0.2834 - accuracy: 0.9313 - val_loss: 0.1449 - val_accuracy: 0.9666\n",
      "Epoch 10/50\n",
      "313/313 [==============================] - 2s 5ms/step - loss: 0.2366 - accuracy: 0.9449 - val_loss: 0.1256 - val_accuracy: 0.9682\n",
      "Epoch 11/50\n",
      "313/313 [==============================] - 2s 5ms/step - loss: 0.2028 - accuracy: 0.9511 - val_loss: 0.1140 - val_accuracy: 0.9694\n",
      "Epoch 12/50\n",
      "313/313 [==============================] - 2s 5ms/step - loss: 0.1796 - accuracy: 0.9528 - val_loss: 0.1068 - val_accuracy: 0.9712\n",
      "Epoch 13/50\n",
      "313/313 [==============================] - 2s 5ms/step - loss: 0.1662 - accuracy: 0.9579 - val_loss: 0.0954 - val_accuracy: 0.9740\n",
      "Epoch 14/50\n",
      "313/313 [==============================] - 2s 5ms/step - loss: 0.1506 - accuracy: 0.9602 - val_loss: 0.0914 - val_accuracy: 0.9743\n",
      "Epoch 15/50\n",
      "313/313 [==============================] - 2s 5ms/step - loss: 0.1350 - accuracy: 0.9652 - val_loss: 0.0865 - val_accuracy: 0.9749\n",
      "Epoch 16/50\n",
      "313/313 [==============================] - 2s 5ms/step - loss: 0.1314 - accuracy: 0.9664 - val_loss: 0.0839 - val_accuracy: 0.9755\n",
      "Epoch 17/50\n",
      "313/313 [==============================] - 2s 5ms/step - loss: 0.1215 - accuracy: 0.9682 - val_loss: 0.0832 - val_accuracy: 0.9758\n",
      "Epoch 18/50\n",
      "313/313 [==============================] - 2s 5ms/step - loss: 0.1177 - accuracy: 0.9689 - val_loss: 0.0792 - val_accuracy: 0.9769\n",
      "Epoch 19/50\n",
      "313/313 [==============================] - 2s 6ms/step - loss: 0.1069 - accuracy: 0.9715 - val_loss: 0.0756 - val_accuracy: 0.9779\n",
      "Epoch 20/50\n",
      "313/313 [==============================] - 2s 5ms/step - loss: 0.1014 - accuracy: 0.9742 - val_loss: 0.0741 - val_accuracy: 0.9778\n",
      "Epoch 21/50\n",
      "313/313 [==============================] - 2s 5ms/step - loss: 0.0975 - accuracy: 0.9735 - val_loss: 0.0716 - val_accuracy: 0.9786\n",
      "Epoch 22/50\n",
      "313/313 [==============================] - 2s 5ms/step - loss: 0.0947 - accuracy: 0.9750 - val_loss: 0.0737 - val_accuracy: 0.9771\n",
      "Epoch 23/50\n",
      "313/313 [==============================] - 2s 5ms/step - loss: 0.0901 - accuracy: 0.9757 - val_loss: 0.0710 - val_accuracy: 0.9787\n",
      "Epoch 24/50\n",
      "313/313 [==============================] - 2s 5ms/step - loss: 0.0860 - accuracy: 0.9767 - val_loss: 0.0687 - val_accuracy: 0.9798\n",
      "Epoch 25/50\n",
      "313/313 [==============================] - 2s 5ms/step - loss: 0.0833 - accuracy: 0.9764 - val_loss: 0.0688 - val_accuracy: 0.9797\n",
      "Epoch 26/50\n",
      "313/313 [==============================] - 2s 6ms/step - loss: 0.0788 - accuracy: 0.9795 - val_loss: 0.0673 - val_accuracy: 0.9801\n",
      "Epoch 27/50\n",
      "313/313 [==============================] - 2s 5ms/step - loss: 0.0758 - accuracy: 0.9790 - val_loss: 0.0700 - val_accuracy: 0.9796\n",
      "Epoch 28/50\n",
      "313/313 [==============================] - 2s 5ms/step - loss: 0.0750 - accuracy: 0.9800 - val_loss: 0.0675 - val_accuracy: 0.9811\n",
      "Epoch 29/50\n",
      "313/313 [==============================] - 2s 5ms/step - loss: 0.0683 - accuracy: 0.9815 - val_loss: 0.0691 - val_accuracy: 0.9802\n",
      "Epoch 30/50\n",
      "313/313 [==============================] - 2s 5ms/step - loss: 0.0668 - accuracy: 0.9816 - val_loss: 0.0661 - val_accuracy: 0.9808\n",
      "Epoch 31/50\n",
      "313/313 [==============================] - 2s 5ms/step - loss: 0.0648 - accuracy: 0.9837 - val_loss: 0.0639 - val_accuracy: 0.9819\n",
      "Epoch 32/50\n",
      "313/313 [==============================] - 2s 5ms/step - loss: 0.0619 - accuracy: 0.9834 - val_loss: 0.0637 - val_accuracy: 0.9814\n",
      "Epoch 33/50\n",
      "313/313 [==============================] - 2s 5ms/step - loss: 0.0611 - accuracy: 0.9835 - val_loss: 0.0680 - val_accuracy: 0.9808\n",
      "Epoch 34/50\n",
      "313/313 [==============================] - 2s 5ms/step - loss: 0.0622 - accuracy: 0.9834 - val_loss: 0.0647 - val_accuracy: 0.9813\n",
      "Epoch 35/50\n",
      "313/313 [==============================] - 2s 5ms/step - loss: 0.0556 - accuracy: 0.9854 - val_loss: 0.0646 - val_accuracy: 0.9814\n",
      "Epoch 36/50\n",
      "313/313 [==============================] - 2s 5ms/step - loss: 0.0537 - accuracy: 0.9850 - val_loss: 0.0630 - val_accuracy: 0.9809\n",
      "Epoch 37/50\n",
      "313/313 [==============================] - 2s 5ms/step - loss: 0.0556 - accuracy: 0.9850 - val_loss: 0.0627 - val_accuracy: 0.9822\n",
      "Epoch 38/50\n",
      "313/313 [==============================] - 2s 5ms/step - loss: 0.0497 - accuracy: 0.9862 - val_loss: 0.0625 - val_accuracy: 0.9825\n",
      "Epoch 39/50\n",
      "313/313 [==============================] - 2s 5ms/step - loss: 0.0535 - accuracy: 0.9841 - val_loss: 0.0616 - val_accuracy: 0.9834\n",
      "Epoch 40/50\n",
      "313/313 [==============================] - 2s 5ms/step - loss: 0.0478 - accuracy: 0.9868 - val_loss: 0.0617 - val_accuracy: 0.9825\n",
      "Epoch 41/50\n",
      "313/313 [==============================] - 2s 5ms/step - loss: 0.0488 - accuracy: 0.9859 - val_loss: 0.0617 - val_accuracy: 0.9821\n",
      "Epoch 42/50\n",
      "313/313 [==============================] - 2s 5ms/step - loss: 0.0457 - accuracy: 0.9872 - val_loss: 0.0593 - val_accuracy: 0.9834\n",
      "Epoch 43/50\n",
      "313/313 [==============================] - 2s 5ms/step - loss: 0.0463 - accuracy: 0.9874 - val_loss: 0.0609 - val_accuracy: 0.9836\n",
      "Epoch 44/50\n",
      "313/313 [==============================] - 2s 5ms/step - loss: 0.0436 - accuracy: 0.9870 - val_loss: 0.0630 - val_accuracy: 0.9832\n",
      "Epoch 45/50\n",
      "313/313 [==============================] - 2s 5ms/step - loss: 0.0438 - accuracy: 0.9877 - val_loss: 0.0631 - val_accuracy: 0.9827\n",
      "Epoch 46/50\n",
      "313/313 [==============================] - 2s 5ms/step - loss: 0.0420 - accuracy: 0.9876 - val_loss: 0.0628 - val_accuracy: 0.9831\n",
      "Epoch 47/50\n",
      "313/313 [==============================] - 2s 5ms/step - loss: 0.0424 - accuracy: 0.9890 - val_loss: 0.0619 - val_accuracy: 0.9833\n",
      "Epoch 48/50\n",
      "313/313 [==============================] - 2s 5ms/step - loss: 0.0416 - accuracy: 0.9884 - val_loss: 0.0639 - val_accuracy: 0.9835\n",
      "Epoch 49/50\n",
      "313/313 [==============================] - 2s 5ms/step - loss: 0.0393 - accuracy: 0.9880 - val_loss: 0.0628 - val_accuracy: 0.9832\n",
      "Epoch 50/50\n",
      "313/313 [==============================] - 2s 5ms/step - loss: 0.0406 - accuracy: 0.9880 - val_loss: 0.0626 - val_accuracy: 0.9832\n"
     ]
    }
   ],
   "source": [
    "history = model.fit(X, y, \n",
    "         batch_size=128,\n",
    "         epochs=50,\n",
    "         validation_data=(x_val, y_val))"
   ]
  },
  {
   "cell_type": "code",
   "execution_count": 10,
   "id": "technological-brick",
   "metadata": {},
   "outputs": [
    {
     "ename": "KeyError",
     "evalue": "'val_acc'",
     "output_type": "error",
     "traceback": [
      "\u001b[0;31m---------------------------------------------------------------------------\u001b[0m",
      "\u001b[0;31mKeyError\u001b[0m                                  Traceback (most recent call last)",
      "\u001b[0;32m<ipython-input-10-749b5e25c88d>\u001b[0m in \u001b[0;36m<module>\u001b[0;34m\u001b[0m\n\u001b[1;32m      1\u001b[0m \u001b[0mepochs\u001b[0m \u001b[0;34m=\u001b[0m \u001b[0mrange\u001b[0m\u001b[0;34m(\u001b[0m\u001b[0;36m50\u001b[0m\u001b[0;34m)\u001b[0m\u001b[0;34m\u001b[0m\u001b[0;34m\u001b[0m\u001b[0m\n\u001b[1;32m      2\u001b[0m \u001b[0mtrain_acc\u001b[0m \u001b[0;34m=\u001b[0m \u001b[0mhistory\u001b[0m\u001b[0;34m.\u001b[0m\u001b[0mhistory\u001b[0m\u001b[0;34m[\u001b[0m\u001b[0;34m'accuracy'\u001b[0m\u001b[0;34m]\u001b[0m\u001b[0;34m\u001b[0m\u001b[0;34m\u001b[0m\u001b[0m\n\u001b[0;32m----> 3\u001b[0;31m \u001b[0mval_acc\u001b[0m \u001b[0;34m=\u001b[0m \u001b[0mhistory\u001b[0m\u001b[0;34m.\u001b[0m\u001b[0mhistory\u001b[0m\u001b[0;34m[\u001b[0m\u001b[0;34m'val_acc'\u001b[0m\u001b[0;34m]\u001b[0m\u001b[0;34m\u001b[0m\u001b[0;34m\u001b[0m\u001b[0m\n\u001b[0m\u001b[1;32m      4\u001b[0m \u001b[0mpt\u001b[0m\u001b[0;34m.\u001b[0m\u001b[0mplot\u001b[0m\u001b[0;34m(\u001b[0m\u001b[0mepochs\u001b[0m\u001b[0;34m,\u001b[0m \u001b[0mtrain_acc\u001b[0m\u001b[0;34m,\u001b[0m \u001b[0;34m'bo'\u001b[0m\u001b[0;34m,\u001b[0m \u001b[0mlabel\u001b[0m\u001b[0;34m=\u001b[0m\u001b[0;34m\"Training Accuracy\"\u001b[0m\u001b[0;34m)\u001b[0m\u001b[0;34m\u001b[0m\u001b[0;34m\u001b[0m\u001b[0m\n\u001b[1;32m      5\u001b[0m \u001b[0mpt\u001b[0m\u001b[0;34m.\u001b[0m\u001b[0mplot\u001b[0m\u001b[0;34m(\u001b[0m\u001b[0mepochs\u001b[0m\u001b[0;34m,\u001b[0m \u001b[0mval_acc\u001b[0m\u001b[0;34m,\u001b[0m \u001b[0;34m'r'\u001b[0m\u001b[0;34m,\u001b[0m \u001b[0mlabel\u001b[0m\u001b[0;34m=\u001b[0m\u001b[0;34m\"Validation Accuracy\"\u001b[0m\u001b[0;34m)\u001b[0m\u001b[0;34m\u001b[0m\u001b[0;34m\u001b[0m\u001b[0m\n",
      "\u001b[0;31mKeyError\u001b[0m: 'val_acc'"
     ]
    }
   ],
   "source": [
    "epochs = range(50)\n",
    "train_acc = history.history['accuracy']\n",
    "val_acc = history.history['val_acc']\n",
    "pt.plot(epochs, train_acc, 'bo', label=\"Training Accuracy\")\n",
    "pt.plot(epochs, val_acc, 'r', label=\"Validation Accuracy\")\n",
    "pt.xlabel(\"Epochs\")\n",
    "pt.ylabel=(\"Accuracy\")\n",
    "pt.legend()\n",
    "pt.show()"
   ]
  }
 ],
 "metadata": {
  "kernelspec": {
   "display_name": "cs583",
   "language": "python",
   "name": "cs583"
  },
  "language_info": {
   "codemirror_mode": {
    "name": "ipython",
    "version": 3
   },
   "file_extension": ".py",
   "mimetype": "text/x-python",
   "name": "python",
   "nbconvert_exporter": "python",
   "pygments_lexer": "ipython3",
   "version": "3.8.5"
  }
 },
 "nbformat": 4,
 "nbformat_minor": 5
}
